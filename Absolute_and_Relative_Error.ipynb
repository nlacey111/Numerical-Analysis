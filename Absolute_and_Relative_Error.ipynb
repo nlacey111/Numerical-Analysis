{
 "cells": [
  {
   "cell_type": "markdown",
   "id": "e9df452c",
   "metadata": {},
   "source": [
    "# Lab 2\n",
    "\n",
    "## Exercise 1\n",
    "\n",
    "Use three-digit rounding arithmetic to perform the following calculations. Compute the absolute error and relative error with the exact value determined to at least five digits.\n",
    "\n",
    "a. $\\frac{\\frac{13}{14}-\\frac{6}{7}}{2e-5.4}$\n",
    "\n",
    "b. $-10 \\pi + 6 e - \\frac{3}{62}$\n",
    "\n",
    "c. $\\left( \\frac{2}{9} \\right) \\cdot \\left( \\frac{9}{7} \\right)$\n",
    "\n",
    "d. $\\frac{\\sqrt{13} + \\sqrt{11}}{\\sqrt{13} - \\sqrt{11}}$"
   ]
  },
  {
   "cell_type": "code",
   "execution_count": 67,
   "id": "0dcabb1f",
   "metadata": {},
   "outputs": [
    {
     "name": "stdout",
     "output_type": "stream",
     "text": [
      "Exact:  1.9535401392860217\n",
      "Approximate: 1.8\n",
      "Absolute Error:  0.15354\n",
      "Relative Error:  0.078596\n"
     ]
    }
   ],
   "source": [
    "# For part a.\n",
    "import numpy as np\n",
    "from decimal import Decimal \n",
    "from decimal import getcontext\n",
    "\n",
    "# Exact Value\n",
    "exact = (13/14-6/7)/(2*np.exp(1)-5.4)\n",
    "print(\"Exact: \",exact)\n",
    "\n",
    "# set precision to three-digit rounding\n",
    "getcontext().prec = 3\n",
    "\n",
    "# Approximate Value\n",
    "approx_num = Decimal(13)/Decimal(14)-Decimal(6)/Decimal(7)\n",
    "approx_denom = Decimal(2)*Decimal(2.72)-Decimal(5.4)\n",
    "approx = approx_num/approx_denom\n",
    "print(\"Approximate:\",approx)\n",
    "\n",
    "# Absolute Error\n",
    "getcontext().prec = 5\n",
    "error = abs(Decimal(exact)-approx)\n",
    "\n",
    "print(\"Absolute Error: \",error)\n",
    "\n",
    "rel = error/Decimal(exact)\n",
    "\n",
    "print(\"Relative Error: \",rel)"
   ]
  },
  {
   "cell_type": "code",
   "execution_count": null,
   "id": "2d61d75c",
   "metadata": {},
   "outputs": [],
   "source": []
  }
 ],
 "metadata": {
  "kernelspec": {
   "display_name": "Python 3 (ipykernel)",
   "language": "python",
   "name": "python3"
  },
  "language_info": {
   "codemirror_mode": {
    "name": "ipython",
    "version": 3
   },
   "file_extension": ".py",
   "mimetype": "text/x-python",
   "name": "python",
   "nbconvert_exporter": "python",
   "pygments_lexer": "ipython3",
   "version": "3.9.7"
  }
 },
 "nbformat": 4,
 "nbformat_minor": 5
}
