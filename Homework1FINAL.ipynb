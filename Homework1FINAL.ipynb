{
 "cells": [
  {
   "cell_type": "markdown",
   "id": "6499e0eb",
   "metadata": {},
   "source": [
    "# Math/CS 165 homework 1\n",
    "\n",
    "Please fill the remainder of this notebook with your code (remove `pass` after \"# your code here\"), execute all cells, save the notebook on your machine, and upload the notebook only (i.e. not any other files in this folder) to Blackbboard."
   ]
  },
  {
   "cell_type": "markdown",
   "id": "123fbed0",
   "metadata": {},
   "source": [
    "## Problem 1\n",
    "\n",
    "Consider the function \n",
    "\n",
    "$$ f(x) = \\frac{1}{4} - \\frac{\\sin(4x)}{x}.$$"
   ]
  },
  {
   "cell_type": "code",
   "execution_count": 46,
   "id": "0a0fa338",
   "metadata": {},
   "outputs": [
    {
     "data": {
      "image/png": "[encoded data removed]",
      "text/plain": [
       "<Figure size 432x288 with 1 Axes>"
      ]
     },
     "metadata": {
      "needs_background": "light"
     },
     "output_type": "display_data"
    }
   ],
   "source": [
    "import numpy as np\n",
    "from matplotlib import pyplot as plt\n",
    "\n",
    "f = lambda x: 0.25 - np.sin(4*x)/x\n",
    "g = lambda x: 0*x\n",
    "x = np.linspace(-6,6,100)\n",
    "\n",
    "plt.plot(x, f(x))\n",
    "plt.plot(x, g(x))\n",
    "plt.show()"
   ]
  },
  {
   "cell_type": "markdown",
   "id": "52477250",
   "metadata": {},
   "source": [
    "Write a python function `multi_bisection` to compute all 10 roots of $f(x)$. "
   ]
  },
  {
   "cell_type": "code",
   "execution_count": 47,
   "id": "9bc45d82",
   "metadata": {},
   "outputs": [
    {
     "name": "stdout",
     "output_type": "stream",
     "text": [
      "roots =  [-3.6410164707276547, -3.3949964664510857, -2.2098644955973947, -1.679095358956625, -0.7389471547601296, 0.7389471547601296, 1.679095358956625, 2.2098644955973947, 3.3949964664510857]\n",
      "\n",
      "max value of |f(roots)| =  3.885780586188048e-16\n"
     ]
    }
   ],
   "source": [
    "#from bisection import bisection\n",
    "import numpy as np\n",
    "#grid = np.linspace(-6,6,100)\n",
    "f = lambda x: 0.25 - np.sin(4*x)/x\n",
    "def multi_bisection(func, grid, n_max): \n",
    "    #grid = []\n",
    "    #for x in (-6,6):\n",
    "     #   grid.append(x)\n",
    "    grid = np.arange(-6,6,0.01)\n",
    "  \n",
    "    '''\n",
    "    input: \n",
    "        func = function whose roots we want to compute\n",
    "        grid = numpy array containing a grid of points spanning the interval containing roots\n",
    "        n_max = maximum number of iterations\n",
    "    output: \n",
    "        returns a python list whose elements are the roots we want to compute\n",
    "        '''\n",
    "    left_end = []\n",
    "    right_end = []\n",
    "    for i in range(len(grid)-1):\n",
    "        if f(grid[i])*f(grid[i+1])<0:\n",
    "        #print(grid[i])\n",
    "            left_end.append(grid[i])\n",
    "            right_end.append(grid[i+1])\n",
    "    roots = []\n",
    "    for i in range(len(left_end)-1):\n",
    "        roots.append(bisection(func, left_end[i], right_end[i], n_max))\n",
    "    return roots\n",
    "\n",
    "roots = multi_bisection(func=f, grid= np.linspace(-6,6,100), n_max=100)\n",
    "print('roots = ', roots)\n",
    "print()\n",
    "print('max value of |f(roots)| = ', np.vectorize(f)(roots).max() if roots != None else None)"
   ]
  },
  {
   "cell_type": "code",
   "execution_count": 45,
   "id": "459dc7d0",
   "metadata": {},
   "outputs": [
    {
     "name": "stdout",
     "output_type": "stream",
     "text": [
      "[]\n"
     ]
    }
   ],
   "source": [
    "formatted_array = [\"%i: %s\" % (index, val) for index, val in  enumerate(grid)]\n",
    " \n",
    "print(formatted_array)\n"
   ]
  },
  {
   "cell_type": "code",
   "execution_count": 17,
   "id": "35113813",
   "metadata": {},
   "outputs": [],
   "source": [
    "def bisection(func, low, high, n_max):\n",
    "    assert func(low)*func(high)<0\n",
    "    for i in range(n_max):\n",
    "        midpoint = (low + high) / 2.0\n",
    "        if func(low)*func(midpoint)<0:\n",
    "            high = midpoint\n",
    "        else:\n",
    "            low = midpoint\n",
    "    return midpoint"
   ]
  },
  {
   "cell_type": "markdown",
   "id": "c93463e6",
   "metadata": {},
   "source": [
    "## Problem 2\n",
    "\n",
    "Write a function `fixedpoint` that uses fixed-point iteration to compute the fixed point $p$ of a function $g(x)$ using $p_0$ as an initial guess. \n",
    "\n",
    "The function `fixedpoint` should compute a number $p^*$ that approximates $p$ to an accuracy given by\n",
    "\n",
    "$$ \\frac{|p^* - p|}{|p|} < 10^{-3}.$$ \n",
    "\n",
    "Since you don't know $p$ in advance, you cannot use this stopping criterion in your code, but you can use: \n",
    "\n",
    "$$ \\frac{|p_{n+1} - p_n|}{|p_n|} < 10^{-3},$$ \n",
    "\n",
    "which should accomplish the same thing. The number on the right-hand side of the inequality is called the tolerance. \n",
    "\n",
    "`fixedpoint` should use no more than $N_{max}$ iterations. In other words, if the above accuracy cannot be achieved within $N_{max}$ iterations, then `fixedpoint` should stop and print out this fact. "
   ]
  },
  {
   "cell_type": "code",
   "execution_count": 49,
   "id": "af4f0f0a",
   "metadata": {},
   "outputs": [],
   "source": [
    "import numpy as np\n",
    "def fixedpoint(g, p0, TOL, Nmax): \n",
    "    # INPUT: a function g, initial guess p0, error tolerance TOL,\n",
    "    # and maximum number of interations Nmax\n",
    "    # OUTPUT:  An approximate fixed point p, or message of failure\n",
    "\n",
    "    # your code here\n",
    "    \n",
    "    p = p0\n",
    "    for i in range(Nmax):\n",
    "        p_old = p\n",
    "        p = g(p)\n",
    "        if ((p - p_old)/p_old) <TOL:\n",
    "            return p\n",
    "    print(\"Failed D:\")\n",
    "    return none\n",
    "    pass \n",
    "\n",
    "# x = sqrt(2a) ???"
   ]
  },
  {
   "cell_type": "markdown",
   "id": "12bde768",
   "metadata": {},
   "source": [
    "Use your function to approximate $\\sqrt{2}$ to the numerical accuracy indicated above by using $g(x) = x/2 + a/x$ and choosing $a$ appropriately. Demonstrate, using code output and verbal descriptions (in Markdown and/or comments), that decreasing the tolerance gives better accuracy."
   ]
  },
  {
   "cell_type": "code",
   "execution_count": 65,
   "id": "9aaa9651",
   "metadata": {},
   "outputs": [
    {
     "name": "stdout",
     "output_type": "stream",
     "text": [
      "1.4142857142857141\n",
      "1.4142135642135643\n",
      "1.4142135642135643\n"
     ]
    }
   ],
   "source": [
    "g = lambda x: x/2 + (1/x)\n",
    "print(fixedpoint(g, 1.4, 1*np.exp(-3), 10))\n",
    "print(fixedpoint(g, 1.4, 1*np.exp(-50), 10))\n",
    "print(fixedpoint(g, 1.4, 1*np.exp(-100), 10))\n",
    "\n",
    "# As the tolerance increases, the most specific fixedpoint value is 1.414213"
   ]
  },
  {
   "cell_type": "markdown",
   "id": "b3b50f2e",
   "metadata": {},
   "source": [
    "## Problem 3\n",
    "\n",
    "Write a function `newton` that uses the Newton method to compute the zeros of the polynomial whose coefficients are the elements of a list `a`. In other words, if `n = len(a)`, then the polynomial is:\n",
    "\n",
    "$$p(x) = a[n-1] x^{n-1} + a[n-2] x^{n-2} + \\cdots + a[1] x^1 + a[0].$$\n",
    "\n",
    "Implement Newton's method using Horner's method to speed up the evaluation of the polynomial and its derivative. Please do this by having `newton` call a helper function `horner`."
   ]
  },
  {
   "cell_type": "code",
   "execution_count": 120,
   "id": "6052a0e5",
   "metadata": {},
   "outputs": [],
   "source": [
    "def horner(a, x): \n",
    "    # INPUT: coefficients a\n",
    "    # OUTPUT: p(x) and p'(x)\n",
    "    b = 0\n",
    "    b2 = 0\n",
    "    for coe in reversed(a):\n",
    "        b2 = b2*x + b\n",
    "        b = b*x + coe \n",
    "    return b,b2\n",
    "    \n",
    "\n",
    "def newton(a, p0, TOL, Nmax):\n",
    "    p = p0\n",
    "    for i in range(Nmax):\n",
    "        p_old = p\n",
    "        fp, dfp = horner(a,p)\n",
    "        p = p - fp/dfp\n",
    "        \n",
    "        if abs(p - p_old) < TOL:\n",
    "            print('number of iterations:', i)\n",
    "            return p\n",
    "    \n",
    "    \n",
    "    print('Max iterations reached. :(')\n",
    "    # your code here"
   ]
  },
  {
   "cell_type": "code",
   "execution_count": 126,
   "id": "4fdc6b4e",
   "metadata": {},
   "outputs": [
    {
     "name": "stdout",
     "output_type": "stream",
     "text": [
      "number of iterations: 7\n",
      "0.6180339887498948\n",
      "-1.1102230246251565e-16\n"
     ]
    }
   ],
   "source": [
    "g = lambda x: x**2 +x -1\n",
    "a = [-1,1,1]\n",
    "print(newton(a, 0, 1*np.exp(-50), 100))\n",
    "print(g(0.6180339887498948))"
   ]
  },
  {
   "cell_type": "markdown",
   "id": "0d69b3bd",
   "metadata": {},
   "source": [
    "### Hints: \n",
    "\n",
    "* Newton is summarized in Algo 2.3 in the Text\n",
    "* Horner is sumarized in Algo 2.7 in the Text \n",
    "\n",
    "\n"
   ]
  },
  {
   "cell_type": "markdown",
   "id": "2f234e66",
   "metadata": {},
   "source": [
    "## Problem 4\n",
    "\n",
    "Use `newton` to compute ALL 10 roots of of the polynomial whose coefficients `a` are given by \n"
   ]
  },
  {
   "cell_type": "code",
   "execution_count": 127,
   "id": "e8e20dfb",
   "metadata": {},
   "outputs": [
    {
     "name": "stdout",
     "output_type": "stream",
     "text": [
      "coefficients =  [-2.46093750e-01  0.00000000e+00  1.35351562e+01  0.00000000e+00\n",
      " -1.17304688e+02  0.00000000e+00  3.51914062e+02  0.00000000e+00\n",
      " -4.27324219e+02  0.00000000e+00  1.80425781e+02]\n"
     ]
    }
   ],
   "source": [
    "import numpy as np \n",
    "a = np.array([-63, 0, 3465, 0, -30030, 0, 90090, 0, -109395, 0, 46189])/256.0\n",
    "print('coefficients = ', a)"
   ]
  },
  {
   "cell_type": "markdown",
   "id": "1ad15de4",
   "metadata": {},
   "source": [
    "You will need to run `newton` with the initial guesses:"
   ]
  },
  {
   "cell_type": "code",
   "execution_count": 136,
   "id": "4b833053",
   "metadata": {},
   "outputs": [
    {
     "name": "stdout",
     "output_type": "stream",
     "text": [
      "number of iterations: 5\n",
      "0.9739065285171724\n"
     ]
    }
   ],
   "source": [
    "print(newton(a, 1, 1*np.exp(-20), 100))"
   ]
  },
  {
   "cell_type": "code",
   "execution_count": 132,
   "id": "63e80a7d",
   "metadata": {
    "scrolled": true
   },
   "outputs": [
    {
     "name": "stdout",
     "output_type": "stream",
     "text": [
      "initial guesses for roots =  [ 0.98768834  0.89100652  0.70710678  0.4539905   0.15643447 -0.15643447\n",
      " -0.4539905  -0.70710678 -0.89100652 -0.98768834]\n"
     ]
    }
   ],
   "source": [
    "thetas = np.pi*(2.0*np.array(range(1,11)) - 1)/20.0\n",
    "p0s = np.cos(thetas)\n",
    "print('initial guesses for roots = ', p0s)"
   ]
  },
  {
   "cell_type": "code",
   "execution_count": 140,
   "id": "eee7855c",
   "metadata": {},
   "outputs": [
    {
     "name": "stdout",
     "output_type": "stream",
     "text": [
      "number of iterations: 3\n",
      "0.9739065285190207\n",
      "number of iterations: 2\n",
      "0.8650633666891075\n",
      "number of iterations: 2\n",
      "0.6794095682991544\n",
      "number of iterations: 2\n",
      "0.43339539412924727\n",
      "number of iterations: 1\n",
      "0.14887433898960642\n",
      "number of iterations: 1\n",
      "-0.14887433898960642\n",
      "number of iterations: 2\n",
      "-0.4333953941292473\n",
      "number of iterations: 2\n",
      "-0.6794095682991538\n",
      "number of iterations: 2\n",
      "-0.8650633666891085\n",
      "number of iterations: 3\n",
      "-0.9739065285190207\n"
     ]
    }
   ],
   "source": [
    "for p0 in p0s:\n",
    "    print(newton(a, p0, 1*np.exp(-10), 100))"
   ]
  }
 ],
 "metadata": {
  "kernelspec": {
   "display_name": "Python 3 (ipykernel)",
   "language": "python",
   "name": "python3"
  },
  "language_info": {
   "codemirror_mode": {
    "name": "ipython",
    "version": 3
   },
   "file_extension": ".py",
   "mimetype": "text/x-python",
   "name": "python",
   "nbconvert_exporter": "python",
   "pygments_lexer": "ipython3",
   "version": "3.9.7"
  }
 },
 "nbformat": 4,
 "nbformat_minor": 5
}
