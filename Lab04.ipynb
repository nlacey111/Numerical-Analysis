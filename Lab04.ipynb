{
 "cells": [
  {
   "cell_type": "markdown",
   "id": "e9df452c",
   "metadata": {},
   "source": [
    "# Lab 3 (Solutions)\n",
    "\n",
    "## Exercise 1\n",
    "\n",
    "Define\n",
    "\n",
    "$$ f(n) = \\frac{1}{2^n}, \\quad n \\geq 0$$\n",
    "\n",
    "and \n",
    "\n",
    "$$g(n) = \\sum_{k=0}^n f(k)$$ \n",
    "\n",
    "Write code to plot the two functions $f(n)$ and $g(n)$ for $0 \\leq n \\leq 20$. \n",
    "\n",
    "Hint: look at the `np.cumsum()` command in the `numpy` module/library.  Also, `help(plt.plot)` might be helpful."
   ]
  },
  {
   "cell_type": "code",
   "execution_count": 10,
   "id": "92ecbf46",
   "metadata": {},
   "outputs": [
    {
     "data": {
      "image/png": "[encoded data removed]",
      "text/plain": [
       "<Figure size 432x288 with 1 Axes>"
      ]
     },
     "metadata": {
      "needs_background": "light"
     },
     "output_type": "display_data"
    }
   ],
   "source": [
    "import numpy as np \n",
    "from matplotlib import pyplot as plt\n",
    "\n",
    "x = np.arange(21)\n",
    "f = lambda n: 1/2**n\n",
    "\n",
    "plt.plot(x,f(x),'r.')\n",
    "\n",
    "g = lambda k: np.cumsum(f(k))\n",
    "plt.plot(x,g(x),'b.')\n",
    "\n",
    "plt.show()\n"
   ]
  },
  {
   "cell_type": "markdown",
   "id": "19f159c9",
   "metadata": {},
   "source": [
    "## Exercise 2\n",
    "\n",
    "Consider the matrix\n",
    "\n",
    "$$ M = \\left[ \\begin{array}{ccc} 1 & 2 & 1 \\\\ 2 & 4 & 3 \\end{array} \\right].$$\n",
    "\n",
    "Write code to subtract twice the first row from the second."
   ]
  },
  {
   "cell_type": "code",
   "execution_count": 11,
   "id": "c621e514",
   "metadata": {},
   "outputs": [
    {
     "name": "stdout",
     "output_type": "stream",
     "text": [
      "old M:\n",
      "[[1 2 1]\n",
      " [2 4 3]]\n",
      "\n",
      "new M:\n",
      "[[1 2 1]\n",
      " [0 0 1]]\n"
     ]
    }
   ],
   "source": [
    "M = np.array([[1, 2, 1], [2, 4, 3]])\n",
    "print('old M:')\n",
    "print(M)\n",
    "print()\n",
    "\n",
    "M[1,:] = M[1,:] - 2*M[0,:]\n",
    "\n",
    "print('new M:')\n",
    "print(M)"
   ]
  },
  {
   "cell_type": "markdown",
   "id": "e3ea9bf1",
   "metadata": {},
   "source": [
    "## Exercise 3\n",
    "\n",
    "Write a program that has as input a list of numbers \n",
    "$x_0,x_1,\\ldots,xn$ and a number $x$ and that produces as output the product \n",
    "$(x-x_0)(x-x_1)\\ldots(x-x_n)$."
   ]
  },
  {
   "cell_type": "code",
   "execution_count": 12,
   "id": "b28192ef",
   "metadata": {},
   "outputs": [
    {
     "data": {
      "text/plain": [
       "120"
      ]
     },
     "execution_count": 12,
     "metadata": {},
     "output_type": "execute_result"
    }
   ],
   "source": [
    "numbers = [1,2,3,4,5]\n",
    "x_value = 6\n",
    "\n",
    "def prod_diff(x_n,x):\n",
    "    prod = 1\n",
    "    for x_i in x_n:\n",
    "        prod = (x-x_i)*prod\n",
    "    return prod\n",
    "\n",
    "prod_diff(numbers,x_value)"
   ]
  },
  {
   "cell_type": "markdown",
   "id": "30132476",
   "metadata": {},
   "source": [
    "# Lab 4\n",
    "\n",
    "## Exercise 1\n",
    "\n",
    "Recall our bisection algorithm:"
   ]
  },
  {
   "cell_type": "code",
   "execution_count": 15,
   "id": "4a2d1f81",
   "metadata": {},
   "outputs": [],
   "source": [
    "def bisection(func, low, high, n_max):\n",
    "    assert func(low)*func(high)<0\n",
    "    for i in range(n_max):\n",
    "        midpoint = (low + high) / 2.0\n",
    "        if func(low)*func(midpoint)<0:\n",
    "            high = midpoint\n",
    "        else:\n",
    "            low = midpoint\n",
    "    return midpoint"
   ]
  },
  {
   "cell_type": "markdown",
   "id": "d6e708cb",
   "metadata": {},
   "source": [
    "Use the Bisection method to find $p_3$ for $f(x)=\\sqrt{x}- \\cos{x} = 0$ on $[0,1]$."
   ]
  },
  {
   "cell_type": "code",
   "execution_count": null,
   "id": "28a40f9c",
   "metadata": {},
   "outputs": [],
   "source": []
  },
  {
   "cell_type": "markdown",
   "id": "4606c27e",
   "metadata": {},
   "source": [
    "Let $f(x)=(x+2)(x+1)x(x-1)^3(x-2)$. To which zero of $f$ does the Bisection method converge when applied on the following intervals?\n",
    "\n",
    "- $[-3,2.5]$\n",
    "- $[-2.5,3]$\n",
    "- $[-1.75,1.5]$\n",
    "- $[-1.5,1.75]$"
   ]
  },
  {
   "cell_type": "code",
   "execution_count": null,
   "id": "dabe146c",
   "metadata": {},
   "outputs": [],
   "source": []
  },
  {
   "cell_type": "markdown",
   "id": "5015bc79",
   "metadata": {},
   "source": [
    "## Exercise 2\n",
    "\n",
    "Consider the function \n",
    "\n",
    "$$ f(x) = \\frac{1}{4} - \\frac{\\sin(4x)}{x}.$$\n",
    "\n",
    "Use vertical lines to partition the graph so that each root is in its own section.  Hint:  Use `plt.vlines()`.  Also, `max()` and `min()` might be useful."
   ]
  },
  {
   "cell_type": "code",
   "execution_count": 14,
   "id": "32cfd42a",
   "metadata": {},
   "outputs": [
    {
     "data": {
      "image/png": "[encoded data removed]",
      "text/plain": [
       "<Figure size 432x288 with 1 Axes>"
      ]
     },
     "metadata": {
      "needs_background": "light"
     },
     "output_type": "display_data"
    }
   ],
   "source": [
    "import numpy as np\n",
    "from matplotlib import pyplot as plt\n",
    "\n",
    "f = lambda x: 0.25 - np.sin(4*x)/x\n",
    "g = lambda x: 0*x\n",
    "x = np.linspace(-6,6,100)\n",
    "\n",
    "plt.plot(x, f(x))\n",
    "plt.plot(x, g(x))\n",
    "plt.show()"
   ]
  }
 ],
 "metadata": {
  "kernelspec": {
   "display_name": "Python 3 (ipykernel)",
   "language": "python",
   "name": "python3"
  },
  "language_info": {
   "codemirror_mode": {
    "name": "ipython",
    "version": 3
   },
   "file_extension": ".py",
   "mimetype": "text/x-python",
   "name": "python",
   "nbconvert_exporter": "python",
   "pygments_lexer": "ipython3",
   "version": "3.9.7"
  }
 },
 "nbformat": 4,
 "nbformat_minor": 5
}
