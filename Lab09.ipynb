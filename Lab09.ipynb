{
 "cells": [
  {
   "cell_type": "markdown",
   "id": "f1624f90",
   "metadata": {},
   "source": [
    "# Lab 8 (Solutions)\n",
    "\n",
    "## Exercise 1\n",
    "\n",
    "Create a function called `syn_sub` that takes as an input the coefficients of a polynomial as a list `a` in the form:\n",
    "$$p(x) = a[n-1] x^{n-1} + a[n-2] x^{n-2} + \\cdots + a[1] x^1 + a[0]$$\n",
    "and a value `x` to be substituted into the polynomial through synthetic substitutions (aka Horner's Method).  Then use this function to evaluate $P(x)=2x^4-3x^2+3x-4$ at $x_0=-2$ and compare you results with the given direct substitution."
   ]
  },
  {
   "cell_type": "code",
   "execution_count": 7,
   "id": "a0847671",
   "metadata": {},
   "outputs": [],
   "source": [
    "def syn_sub(a,x):\n",
    "    # INPUT: coefficients a\n",
    "    # OUTPUT: p(x)\n",
    "    b = 0\n",
    "    for coe in reversed(a):\n",
    "        b = b*x + coe\n",
    "    return b"
   ]
  },
  {
   "cell_type": "code",
   "execution_count": 8,
   "id": "67dbf6c9",
   "metadata": {},
   "outputs": [
    {
     "name": "stdout",
     "output_type": "stream",
     "text": [
      "Direct Substitution: 10\n",
      "Synthetic Substitution: 10\n"
     ]
    }
   ],
   "source": [
    "P = lambda x: 2*x**4 - 3*x**2 + 3*x - 4\n",
    "print('Direct Substitution:', P(-2))\n",
    "coeff = [-4,3,-3,0,2]\n",
    "print('Synthetic Substitution:', syn_sub(coeff,-2))"
   ]
  },
  {
   "cell_type": "markdown",
   "id": "0e376a43",
   "metadata": {},
   "source": [
    "## Exercise 2\n",
    "\n",
    "Create a function called `horner` that builds on syn_sub by also evaluating deriviative of the polynomial at the input value.  Then use this function to evaluate $P'(-2)$ and compare to the direct substitution."
   ]
  },
  {
   "cell_type": "code",
   "execution_count": 3,
   "id": "cc16e866",
   "metadata": {},
   "outputs": [],
   "source": [
    "def horner(a, x): \n",
    "    # INPUT: coefficients a\n",
    "    # OUTPUT: p(x) and p'(x)\n",
    "    b = 0\n",
    "    b2 = 0\n",
    "    for coe in reversed(a):\n",
    "        b2 = b2*x + b\n",
    "        b = b*x + coe \n",
    "    return b,b2"
   ]
  },
  {
   "cell_type": "code",
   "execution_count": 4,
   "id": "03f744fe",
   "metadata": {},
   "outputs": [
    {
     "name": "stdout",
     "output_type": "stream",
     "text": [
      "Direct Substitution: P(-2) = 10 \tP'(-2) = -49\n",
      "Horner: P(-2) = 10 \tP'(-2) = -49\n"
     ]
    }
   ],
   "source": [
    "P = lambda x: 2*x**4 - 3*x**2 + 3*x - 4\n",
    "dP = lambda x: 8*x**3 - 6*x + 3\n",
    "print('Direct Substitution: P(-2) =', P(-2), '\\tP\\'(-2) =', dP(-2))\n",
    "coeff = [-4,3,-3,0,2]\n",
    "px, dpx = horner(coeff,-2)\n",
    "print('Horner: P(-2) =', px, '\\tP\\'(-2) =', dpx)"
   ]
  },
  {
   "cell_type": "code",
   "execution_count": 63,
   "id": "8ae4f775",
   "metadata": {},
   "outputs": [],
   "source": [
    "def horner(a, x): \n",
    "    # INPUT: coefficients a\n",
    "    # OUTPUT: p(x) and p'(x)\n",
    "    b = 0\n",
    "    b2 = 0\n",
    "    b_list=[]\n",
    "    for coe in reversed(a):\n",
    "        b = b*x + coe \n",
    "        b_list.append(b)\n",
    "    b_list.pop()\n",
    "    for coe in b_list:\n",
    "        b2 = b2*x + coe \n",
    "    return b,b2"
   ]
  },
  {
   "cell_type": "code",
   "execution_count": 64,
   "id": "24d1cd99",
   "metadata": {},
   "outputs": [
    {
     "name": "stdout",
     "output_type": "stream",
     "text": [
      "Direct Substitution: P(-2) = 10 \tP'(-2) = -49\n",
      "Horner: P(-2) = 10 \tP'(-2) = -49\n"
     ]
    }
   ],
   "source": [
    "P = lambda x: 2*x**4 - 3*x**2 + 3*x - 4\n",
    "dP = lambda x: 8*x**3 - 6*x + 3\n",
    "print('Direct Substitution: P(-2) =', P(-2), '\\tP\\'(-2) =', dP(-2))\n",
    "coeff = [-4,3,-3,0,2]\n",
    "px, dpx = horner(coeff,-2)\n",
    "print('Horner: P(-2) =', px, '\\tP\\'(-2) =', dpx)"
   ]
  },
  {
   "cell_type": "markdown",
   "id": "f2eac2b1",
   "metadata": {},
   "source": [
    "# Lab 9\n",
    "\n",
    "## Exercise 1\n",
    "\n",
    "Create a function called `lagrange2` that takes as inputs a list `x_n` of three $x$-values and a list `y_n` of three $y$-values, as well as `x_val` a single x-value.  Then, have the code calculate the value of second Lagrange interpolating polynomial (through the three points) at the given $x$-value.  Execute your code on the example we completed in class."
   ]
  },
  {
   "cell_type": "code",
   "execution_count": 65,
   "id": "c27319a2",
   "metadata": {},
   "outputs": [],
   "source": [
    "def lagrange2(x_n, y_n, x_val): \n",
    "    # INPUT: list x_n of x-values, list y_n of y-values, x_val to be approximated\n",
    "    # OUTPUT: P(x_val)\n",
    "    # Your code here \n",
    "    return None"
   ]
  },
  {
   "cell_type": "code",
   "execution_count": 66,
   "id": "96c8f42e",
   "metadata": {},
   "outputs": [
    {
     "name": "stdout",
     "output_type": "stream",
     "text": [
      "P(3.000000) =  None\n"
     ]
    }
   ],
   "source": [
    "f = lambda x: 1/x\n",
    "x_n = [2,2.75,4]\n",
    "y_n = [f(2),f(2.75),f(4)]\n",
    "x_val = 3\n",
    "print('P(%f) = ' % x_val,lagrange2(x_n,y_n,3))"
   ]
  },
  {
   "cell_type": "code",
   "execution_count": 67,
   "id": "55e1a662",
   "metadata": {},
   "outputs": [
    {
     "name": "stdout",
     "output_type": "stream",
     "text": [
      "P(3) =  0.3295454545454546\n"
     ]
    }
   ],
   "source": [
    "f = lambda x: 1/x\n",
    "L_0 = lambda x: ((x-2.75)*(x-4))/((2-2.75)*(2-4)) \n",
    "L_1 = lambda x: ((x-2)*(x-4))/((2.75-2)*(2.75-4))\n",
    "L_2 = lambda x: ((x-2)*(x-2.75))/((4-2)*(4-2.75))\n",
    "P = lambda x: f(2)*L_0(x) + f(2.75)*L_1(x) + f(4)*L_2(x)\n",
    "print('P(3) = ',P(3))"
   ]
  },
  {
   "cell_type": "markdown",
   "id": "bb1b5e56",
   "metadata": {},
   "source": [
    "## Exercise 2\n",
    "\n",
    "Create a function called `lagrange` that takes as inputs a list `x_n` of $x$-values and a list `y_n` of $y$-values, as well as `x_val` a single x-value.  Then, have the code calculate the value of the $n$-th Lagrange interpolating polynomial (through the $n$ points) at the given $x$-value.  Hint:\n",
    "\n",
    "`\n",
    "n = len(x_n)\n",
    "Px = 0\n",
    "for i in range(n):\n",
    "    p = 1\n",
    "    for j in range(n):\n",
    "        if i != j:\n",
    "            p = p * (x_val - x_n[j])/(x_n[i] - x_n[j])    \n",
    "    Px = Px + p * y_n[i]`    "
   ]
  },
  {
   "cell_type": "code",
   "execution_count": 68,
   "id": "6c760eee",
   "metadata": {},
   "outputs": [],
   "source": [
    "def lagrange(x_n, y_n, x_val): \n",
    "    # INPUT: list x_n of x-values, list y_n of y-values, x_val to be approximated\n",
    "    # OUTPUT: P(x_val)\n",
    "    # Your code here \n",
    "    return None"
   ]
  },
  {
   "cell_type": "code",
   "execution_count": 69,
   "id": "49957d09",
   "metadata": {},
   "outputs": [
    {
     "name": "stdout",
     "output_type": "stream",
     "text": [
      "P(0.250000) =  None\n"
     ]
    }
   ],
   "source": [
    "x_n = [0.1,0.2,0.3,0.4]\n",
    "y_n = [0.62049958,-0.28398668,0.00660095,0.24842440]\n",
    "x_val = 0.25\n",
    "lagrange(x_n,y_n,x_val)\n",
    "print('P(%f) = ' % x_val,lagrange(x_n,y_n,x_val))"
   ]
  }
 ],
 "metadata": {
  "kernelspec": {
   "display_name": "Python 3 (ipykernel)",
   "language": "python",
   "name": "python3"
  },
  "language_info": {
   "codemirror_mode": {
    "name": "ipython",
    "version": 3
   },
   "file_extension": ".py",
   "mimetype": "text/x-python",
   "name": "python",
   "nbconvert_exporter": "python",
   "pygments_lexer": "ipython3",
   "version": "3.9.7"
  }
 },
 "nbformat": 4,
 "nbformat_minor": 5
}
