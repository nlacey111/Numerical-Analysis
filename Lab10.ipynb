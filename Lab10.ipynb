{
 "cells": [
  {
   "cell_type": "markdown",
   "id": "f2eac2b1",
   "metadata": {},
   "source": [
    "# Lab 9 (Solutions)\n",
    "\n",
    "## Exercise 1\n",
    "\n",
    "Create a function called `lagrange2` that takes as inputs a list `x_n` of three $x$-values and a list `y_n` of three $y$-values, as well as `x_val` a single x-value.  Then, have the code calculate the value of second Lagrange interpolating polynomial (through the three points) at the given $x$-value.  Execute your code on the example we completed in class."
   ]
  },
  {
   "cell_type": "code",
   "execution_count": 8,
   "id": "c27319a2",
   "metadata": {},
   "outputs": [],
   "source": [
    "def lagrange2(x_n, y_n, x_val): \n",
    "    # INPUT: list x_n of x-values, list y_n of y-values, x_val to be approximated\n",
    "    # OUTPUT: P(x_val)\n",
    "    L_0 = lambda x: ((x-x_n[1])*(x-x_n[2]))/((x_n[0]-x_n[1])*(x_n[0]-x_n[2])) \n",
    "    L_1 = lambda x: ((x-x_n[0])*(x-x_n[2]))/((x_n[1]-x_n[0])*(x_n[1]-x_n[2]))\n",
    "    L_2 = lambda x: ((x-x_n[0])*(x-x_n[1]))/((x_n[2]-x_n[0])*(x_n[2]-x_n[1]))\n",
    "    P = lambda x: y_n[0]*L_0(x) + y_n[1]*L_1(x) + y_n[2]*L_2(x)\n",
    "    return P(x_val)"
   ]
  },
  {
   "cell_type": "code",
   "execution_count": 9,
   "id": "c994ad80",
   "metadata": {},
   "outputs": [],
   "source": [
    "def lagrange2(x_n, y_n, x_val): \n",
    "    # INPUT: list x_n of x-values, list y_n of y-values, x_val to be approximated\n",
    "    # OUTPUT: P(x_val)\n",
    "    L_0 = ((x_val-x_n[1])*(x_val-x_n[2]))/((x_n[0]-x_n[1])*(x_n[0]-x_n[2]))\n",
    "    L_1 = ((x_val-x_n[0])*(x_val-x_n[2]))/((x_n[1]-x_n[0])*(x_n[1]-x_n[2]))\n",
    "    L_2 = ((x_val-x_n[0])*(x_val-x_n[1]))/((x_n[2]-x_n[0])*(x_n[2]-x_n[1]))\n",
    "    P = y_n[0]*L_0 + y_n[1]*L_1 + y_n[2]*L_2\n",
    "    return P"
   ]
  },
  {
   "cell_type": "code",
   "execution_count": 10,
   "id": "96c8f42e",
   "metadata": {},
   "outputs": [
    {
     "name": "stdout",
     "output_type": "stream",
     "text": [
      "P(3.000000) =  0.3295454545454546\n"
     ]
    }
   ],
   "source": [
    "f = lambda x: 1/x\n",
    "x_n = [2,2.75,4]\n",
    "y_n = [f(2),f(2.75),f(4)]\n",
    "x_val = 3\n",
    "print('P(%f) = ' % x_val,lagrange2(x_n,y_n,3))"
   ]
  },
  {
   "cell_type": "code",
   "execution_count": 11,
   "id": "55e1a662",
   "metadata": {},
   "outputs": [
    {
     "name": "stdout",
     "output_type": "stream",
     "text": [
      "P(3) =  0.3295454545454546\n"
     ]
    }
   ],
   "source": [
    "f = lambda x: 1/x\n",
    "L_0 = lambda x: ((x-2.75)*(x-4))/((2-2.75)*(2-4)) \n",
    "L_1 = lambda x: ((x-2)*(x-4))/((2.75-2)*(2.75-4))\n",
    "L_2 = lambda x: ((x-2)*(x-2.75))/((4-2)*(4-2.75))\n",
    "P = lambda x: f(2)*L_0(x) + f(2.75)*L_1(x) + f(4)*L_2(x)\n",
    "print('P(3) = ',P(3))"
   ]
  },
  {
   "cell_type": "markdown",
   "id": "bb1b5e56",
   "metadata": {},
   "source": [
    "## Exercise 2\n",
    "\n",
    "Create a function called `lagrange` that takes as inputs a list `x_n` of $x$-values and a list `y_n` of $y$-values, as well as `x_val` a single x-value.  Then, have the code calculate the value of the $n$-th Lagrange interpolating polynomial (through the $n$ points) at the given $x$-value.  Hint:\n",
    "\n",
    "`\n",
    "n = len(x_n)\n",
    "Px = 0\n",
    "for i in range(n):\n",
    "    p = 1\n",
    "    for j in range(n):\n",
    "        if i != j:\n",
    "            p = p * (x_val - x_n[j])/(x_n[i] - x_n[j])    \n",
    "    Px = Px + p * y_n[i]`    "
   ]
  },
  {
   "cell_type": "code",
   "execution_count": 12,
   "id": "6c760eee",
   "metadata": {},
   "outputs": [],
   "source": [
    "def lagrange(x_n, y_n, x_val): \n",
    "    # INPUT: list x_n of x-values, list y_n of y-values, x_val to be approximated\n",
    "    # OUTPUT: P(x_val)\n",
    "    n = len(x_n)\n",
    "    Px = 0\n",
    "    for i in range(n):\n",
    "        p = 1\n",
    "        for j in range(n):\n",
    "            if i != j:\n",
    "                p = p * (x_val - x_n[j])/(x_n[i] - x_n[j])    \n",
    "        Px = Px + p * y_n[i]\n",
    "    return Px"
   ]
  },
  {
   "cell_type": "code",
   "execution_count": 13,
   "id": "49957d09",
   "metadata": {},
   "outputs": [
    {
     "name": "stdout",
     "output_type": "stream",
     "text": [
      "P(0.250000) =  -0.21033722187499995\n"
     ]
    }
   ],
   "source": [
    "x_n = [0.1,0.2,0.3,0.4]\n",
    "y_n = [0.62049958,-0.28398668,0.00660095,0.24842440]\n",
    "x_val = 0.25\n",
    "lagrange(x_n,y_n,x_val)\n",
    "print('P(%f) = ' % x_val,lagrange(x_n,y_n,x_val))"
   ]
  },
  {
   "cell_type": "markdown",
   "id": "117e531c",
   "metadata": {},
   "source": [
    "# Lab 10\n",
    "\n",
    "## Exercise 1\n",
    "\n",
    "Use the following functions from class today to output both the divided difference table as well as the value of each interpolated polynomial at the given point.\n"
   ]
  },
  {
   "cell_type": "code",
   "execution_count": 1,
   "id": "aa6c7a39",
   "metadata": {},
   "outputs": [],
   "source": [
    "import numpy as np\n",
    "\n",
    "def divided_diff(x, y):\n",
    "    '''\n",
    "    function to calculate the divided\n",
    "    differences table\n",
    "    '''\n",
    "    n = len(y)\n",
    "    coef = np.zeros([n, n])\n",
    "    # the first column is y\n",
    "    coef[:,0] = y\n",
    "    for j in range(1,n):\n",
    "        for i in range(n-j):\n",
    "            coef[i][j] = \\\n",
    "           (coef[i+1][j-1] - coef[i][j-1]) / (x[i+j]-x[i])           \n",
    "    return coef"
   ]
  },
  {
   "cell_type": "code",
   "execution_count": 2,
   "id": "55198a32",
   "metadata": {},
   "outputs": [],
   "source": [
    "def newton_poly(coef, x, grid):\n",
    "    '''\n",
    "    evaluate the newton polynomial \n",
    "    at x\n",
    "    '''\n",
    "    n = len(x) - 1 \n",
    "    p = coef[n]\n",
    "    for k in range(1,n+1):\n",
    "        p = coef[n-k] + (grid -x[n-k])*p\n",
    "    return p"
   ]
  },
  {
   "cell_type": "code",
   "execution_count": 6,
   "id": "99d7809f",
   "metadata": {},
   "outputs": [],
   "source": [
    "f = lambda x: 1/x\n",
    "x_n = [2,2.75,4]\n",
    "y_n = [f(2),f(2.75),f(4)]\n",
    "x_val = 3"
   ]
  },
  {
   "cell_type": "code",
   "execution_count": 5,
   "id": "3b48739c",
   "metadata": {},
   "outputs": [],
   "source": [
    "x_n = [0.1,0.2,0.3,0.4]\n",
    "y_n = [0.62049958,-0.28398668,0.00660095,0.24842440]\n",
    "x_val = 0.25"
   ]
  }
 ],
 "metadata": {
  "kernelspec": {
   "display_name": "Python 3 (ipykernel)",
   "language": "python",
   "name": "python3"
  },
  "language_info": {
   "codemirror_mode": {
    "name": "ipython",
    "version": 3
   },
   "file_extension": ".py",
   "mimetype": "text/x-python",
   "name": "python",
   "nbconvert_exporter": "python",
   "pygments_lexer": "ipython3",
   "version": "3.9.7"
  }
 },
 "nbformat": 4,
 "nbformat_minor": 5
}
