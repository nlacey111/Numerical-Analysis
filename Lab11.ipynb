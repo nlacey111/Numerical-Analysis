{
 "cells": [
  {
   "cell_type": "markdown",
   "id": "117e531c",
   "metadata": {},
   "source": [
    "# Lab 10 (Solutions)\n",
    "\n",
    "## Exercise 1\n",
    "\n",
    "Use the following functions from class today to output both the divided difference table as well as the value of each interpolated polynomial at the given point."
   ]
  },
  {
   "cell_type": "code",
   "execution_count": 1,
   "id": "aa6c7a39",
   "metadata": {},
   "outputs": [],
   "source": [
    "import numpy as np\n",
    "\n",
    "def divided_diff(x, y):\n",
    "    '''\n",
    "    function to calculate the divided\n",
    "    differences table\n",
    "    '''\n",
    "    n = len(y)\n",
    "    coef = np.zeros([n, n])\n",
    "    # the first column is y\n",
    "    coef[:,0] = y\n",
    "    for j in range(1,n):\n",
    "        for i in range(n-j):\n",
    "            coef[i][j] = \\\n",
    "           (coef[i+1][j-1] - coef[i][j-1]) / (x[i+j]-x[i])           \n",
    "    return coef"
   ]
  },
  {
   "cell_type": "code",
   "execution_count": 2,
   "id": "55198a32",
   "metadata": {},
   "outputs": [],
   "source": [
    "def newton_poly(coef, x, grid):\n",
    "    '''\n",
    "    evaluate the newton polynomial \n",
    "    at x\n",
    "    '''\n",
    "    n = len(x) - 1 \n",
    "    p = coef[n]\n",
    "    for k in range(1,n+1):\n",
    "        p = coef[n-k] + (grid -x[n-k])*p\n",
    "    return p"
   ]
  },
  {
   "cell_type": "code",
   "execution_count": 3,
   "id": "99d7809f",
   "metadata": {},
   "outputs": [
    {
     "name": "stdout",
     "output_type": "stream",
     "text": [
      "Divided Difference Table:\n",
      "[[ 0.5        -0.18181818  0.04545455]\n",
      " [ 0.36363636 -0.09090909  0.        ]\n",
      " [ 0.25        0.          0.        ]]\n",
      "P(3) ~ 0.3295454545454546\n"
     ]
    }
   ],
   "source": [
    "f = lambda x: 1/x\n",
    "x_n = [2,2.75,4]\n",
    "y_n = [f(2),f(2.75),f(4)]\n",
    "x_val = 3\n",
    "print(\"Divided Difference Table:\")\n",
    "print(divided_diff(x_n, y_n))\n",
    "coef = divided_diff(x_n, y_n)[0,:]\n",
    "print(f\"P(3) ~ {newton_poly(coef, x_n, x_val)}\")"
   ]
  },
  {
   "cell_type": "code",
   "execution_count": 4,
   "id": "3b48739c",
   "metadata": {},
   "outputs": [
    {
     "name": "stdout",
     "output_type": "stream",
     "text": [
      "Divided Difference Table:\n",
      "[[ 6.20499580e-01 -9.04486260e+00  5.97536945e+01 -2.07306345e+02]\n",
      " [-2.83986680e-01  2.90587630e+00 -2.43820900e+00  0.00000000e+00]\n",
      " [ 6.60095000e-03  2.41823450e+00  0.00000000e+00  0.00000000e+00]\n",
      " [ 2.48424400e-01  0.00000000e+00  0.00000000e+00  0.00000000e+00]]\n",
      "P(3) ~ -0.21033722187500004\n"
     ]
    }
   ],
   "source": [
    "x_n = [0.1,0.2,0.3,0.4]\n",
    "y_n = [0.62049958,-0.28398668,0.00660095,0.24842440]\n",
    "x_val = 0.25\n",
    "print(\"Divided Difference Table:\")\n",
    "print(divided_diff(x_n, y_n))\n",
    "coef = divided_diff(x_n, y_n)[0,:]\n",
    "print(f\"P(3) ~ {newton_poly(coef, x_n, x_val)}\")"
   ]
  },
  {
   "cell_type": "markdown",
   "id": "1b3a5c5d",
   "metadata": {},
   "source": [
    "# Lab 11\n",
    "\n",
    "## Exercise 1\n",
    "\n",
    "Write a function `forw_diff(f,a,b,n)`, with the output as `[df,X]`, where `f` is a function object. The function `forw_diff` should compute the derivative of `f` numerical for `n` evenly spaced points starting at `a` and ending at `b` using the forward difference method. Note that the output argument, 'dy', should be a 1D array of length $(n−1)$. The function should also output a vector `X` that is the same size as `dy` and denotes the $x$-values for which `dy` is valid."
   ]
  },
  {
   "cell_type": "code",
   "execution_count": 39,
   "id": "627b13c3",
   "metadata": {},
   "outputs": [],
   "source": [
    "import numpy as np\n",
    "import matplotlib.pyplot as plt\n",
    "\n",
    "def forw_diff(f,a,b,n):\n",
    "    # your code here\n",
    "    #X = []\n",
    "    h = (b-a)/ (n-1)\n",
    "    x = np.linspace(a,b,n)\n",
    "    \n",
    "    df = (f(x[1:]) - f(x[:-1]))/h\n",
    "    X = x[:-1]\n",
    "        \n",
    "    return [df,X]"
   ]
  },
  {
   "cell_type": "code",
   "execution_count": 40,
   "id": "f4b7db88",
   "metadata": {},
   "outputs": [
    {
     "data": {
      "image/png": "[encoded data removed]",
      "text/plain": [
       "<Figure size 432x288 with 1 Axes>"
      ]
     },
     "metadata": {
      "needs_background": "light"
     },
     "output_type": "display_data"
    }
   ],
   "source": [
    "f = lambda x: np.cos(x) \n",
    "forward_diff, x_diff = forw_diff(f,0,2*np.pi,50)\n",
    "exact_solution = -np.sin(x_diff) \n",
    "\n",
    "\n",
    "plt.plot(x_diff, forward_diff, '--', label = 'Finite difference approximation')\n",
    "plt.plot(x_diff, exact_solution, label = 'Exact solution')\n",
    "plt.legend()\n",
    "plt.show()"
   ]
  },
  {
   "cell_type": "markdown",
   "id": "96488f4e",
   "metadata": {},
   "source": [
    "## Exercise 2\n",
    "\n",
    "Repeate exercise 1 with a function `back_diff(f,a,b,n)`, with the output as `[df,X]`, where `f` is a function object. The function `back_diff` should compute the derivative of `f` numerical for `n` evenly spaced points starting at `a` and ending at `b` using the backward difference method. Note that the output argument, 'dy', should be a 1D array of length $(n−1)$. The function should also output a vector `X` that is the same size as `dy` and denotes the $x$-values for which `dy` is valid."
   ]
  },
  {
   "cell_type": "code",
   "execution_count": 47,
   "id": "e910e00a",
   "metadata": {},
   "outputs": [],
   "source": [
    "import numpy as np\n",
    "import matplotlib.pyplot as plt\n",
    "\n",
    "def back_diff(f,a,b,n):\n",
    "    # your code here\n",
    "    return [df,X]"
   ]
  },
  {
   "cell_type": "code",
   "execution_count": 48,
   "id": "d8ad404f",
   "metadata": {},
   "outputs": [
    {
     "ename": "NameError",
     "evalue": "name 'df' is not defined",
     "output_type": "error",
     "traceback": [
      "\u001b[1;31m---------------------------------------------------------------------------\u001b[0m",
      "\u001b[1;31mNameError\u001b[0m                                 Traceback (most recent call last)",
      "\u001b[1;32m~\\AppData\\Local\\Temp/ipykernel_12796/2411859896.py\u001b[0m in \u001b[0;36m<module>\u001b[1;34m\u001b[0m\n\u001b[0;32m      1\u001b[0m \u001b[0mf\u001b[0m \u001b[1;33m=\u001b[0m \u001b[1;32mlambda\u001b[0m \u001b[0mx\u001b[0m\u001b[1;33m:\u001b[0m \u001b[0mnp\u001b[0m\u001b[1;33m.\u001b[0m\u001b[0mcos\u001b[0m\u001b[1;33m(\u001b[0m\u001b[0mx\u001b[0m\u001b[1;33m)\u001b[0m\u001b[1;33m\u001b[0m\u001b[1;33m\u001b[0m\u001b[0m\n\u001b[1;32m----> 2\u001b[1;33m \u001b[0mbackward_diff\u001b[0m\u001b[1;33m,\u001b[0m \u001b[0mx_diff\u001b[0m \u001b[1;33m=\u001b[0m \u001b[0mback_diff\u001b[0m\u001b[1;33m(\u001b[0m\u001b[0mf\u001b[0m\u001b[1;33m,\u001b[0m\u001b[1;36m0\u001b[0m\u001b[1;33m,\u001b[0m\u001b[1;36m2\u001b[0m\u001b[1;33m*\u001b[0m\u001b[0mnp\u001b[0m\u001b[1;33m.\u001b[0m\u001b[0mpi\u001b[0m\u001b[1;33m,\u001b[0m\u001b[1;36m50\u001b[0m\u001b[1;33m)\u001b[0m\u001b[1;33m\u001b[0m\u001b[1;33m\u001b[0m\u001b[0m\n\u001b[0m\u001b[0;32m      3\u001b[0m \u001b[0mexact_solution\u001b[0m \u001b[1;33m=\u001b[0m \u001b[1;33m-\u001b[0m\u001b[0mnp\u001b[0m\u001b[1;33m.\u001b[0m\u001b[0msin\u001b[0m\u001b[1;33m(\u001b[0m\u001b[0mx_diff\u001b[0m\u001b[1;33m)\u001b[0m\u001b[1;33m\u001b[0m\u001b[1;33m\u001b[0m\u001b[0m\n\u001b[0;32m      4\u001b[0m \u001b[0mplt\u001b[0m\u001b[1;33m.\u001b[0m\u001b[0mplot\u001b[0m\u001b[1;33m(\u001b[0m\u001b[0mx_diff\u001b[0m\u001b[1;33m,\u001b[0m \u001b[0mbackward_diff\u001b[0m\u001b[1;33m,\u001b[0m \u001b[1;34m'--'\u001b[0m\u001b[1;33m,\u001b[0m \u001b[0mlabel\u001b[0m \u001b[1;33m=\u001b[0m \u001b[1;34m'Finite difference approximation'\u001b[0m\u001b[1;33m)\u001b[0m\u001b[1;33m\u001b[0m\u001b[1;33m\u001b[0m\u001b[0m\n\u001b[0;32m      5\u001b[0m \u001b[0mplt\u001b[0m\u001b[1;33m.\u001b[0m\u001b[0mplot\u001b[0m\u001b[1;33m(\u001b[0m\u001b[0mx_diff\u001b[0m\u001b[1;33m,\u001b[0m \u001b[0mexact_solution\u001b[0m\u001b[1;33m,\u001b[0m \u001b[0mlabel\u001b[0m \u001b[1;33m=\u001b[0m \u001b[1;34m'Exact solution'\u001b[0m\u001b[1;33m)\u001b[0m\u001b[1;33m\u001b[0m\u001b[1;33m\u001b[0m\u001b[0m\n",
      "\u001b[1;32m~\\AppData\\Local\\Temp/ipykernel_12796/1717316411.py\u001b[0m in \u001b[0;36mback_diff\u001b[1;34m(f, a, b, n)\u001b[0m\n\u001b[0;32m      4\u001b[0m \u001b[1;32mdef\u001b[0m \u001b[0mback_diff\u001b[0m\u001b[1;33m(\u001b[0m\u001b[0mf\u001b[0m\u001b[1;33m,\u001b[0m\u001b[0ma\u001b[0m\u001b[1;33m,\u001b[0m\u001b[0mb\u001b[0m\u001b[1;33m,\u001b[0m\u001b[0mn\u001b[0m\u001b[1;33m)\u001b[0m\u001b[1;33m:\u001b[0m\u001b[1;33m\u001b[0m\u001b[1;33m\u001b[0m\u001b[0m\n\u001b[0;32m      5\u001b[0m     \u001b[1;31m# your code here\u001b[0m\u001b[1;33m\u001b[0m\u001b[1;33m\u001b[0m\u001b[0m\n\u001b[1;32m----> 6\u001b[1;33m     \u001b[1;32mreturn\u001b[0m \u001b[1;33m[\u001b[0m\u001b[0mdf\u001b[0m\u001b[1;33m,\u001b[0m\u001b[0mX\u001b[0m\u001b[1;33m]\u001b[0m\u001b[1;33m\u001b[0m\u001b[1;33m\u001b[0m\u001b[0m\n\u001b[0m",
      "\u001b[1;31mNameError\u001b[0m: name 'df' is not defined"
     ]
    }
   ],
   "source": [
    "f = lambda x: np.cos(x) \n",
    "backward_diff, x_diff = back_diff(f,0,2*np.pi,50)\n",
    "exact_solution = -np.sin(x_diff) \n",
    "plt.plot(x_diff, backward_diff, '--', label = 'Finite difference approximation')\n",
    "plt.plot(x_diff, exact_solution, label = 'Exact solution')\n",
    "plt.legend()\n",
    "plt.show()"
   ]
  }
 ],
 "metadata": {
  "kernelspec": {
   "display_name": "Python 3 (ipykernel)",
   "language": "python",
   "name": "python3"
  },
  "language_info": {
   "codemirror_mode": {
    "name": "ipython",
    "version": 3
   },
   "file_extension": ".py",
   "mimetype": "text/x-python",
   "name": "python",
   "nbconvert_exporter": "python",
   "pygments_lexer": "ipython3",
   "version": "3.9.7"
  }
 },
 "nbformat": 4,
 "nbformat_minor": 5
}
