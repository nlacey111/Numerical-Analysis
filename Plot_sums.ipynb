{
 "cells": [
  {
   "cell_type": "markdown",
   "id": "e9df452c",
   "metadata": {},
   "source": [
    "# Lab 3\n",
    "\n",
    "## Exercise 1\n",
    "\n",
    "Define\n",
    "\n",
    "$$ f(n) = \\frac{1}{2^n}, \\quad n \\geq 0$$\n",
    "\n",
    "and \n",
    "\n",
    "$$g(n) = \\sum_{k=0}^n f(k)$$ \n",
    "\n",
    "Write code to plot the two functions $f(n)$ and $g(n)$ for $0 \\leq n \\leq 20$. \n",
    "\n",
    "Hint: look at the `cumsum()` command in the `numpy` module/library.  Also, `help(plt.plot)` might be helpful."
   ]
  },
  {
   "cell_type": "code",
   "execution_count": 9,
   "id": "92ecbf46",
   "metadata": {},
   "outputs": [
    {
     "data": {
      "image/png": "[encoded data removed]",
      "text/plain": [
       "<Figure size 432x288 with 1 Axes>"
      ]
     },
     "metadata": {
      "needs_background": "light"
     },
     "output_type": "display_data"
    }
   ],
   "source": [
    "import numpy as np \n",
    "from matplotlib import pyplot as plt\n",
    "\n",
    "n = np.arange(21)\n",
    "\n",
    "f = lambda n: 1/2**n\n",
    "g = lambda n: np.cumsum(f(n))\n",
    "\n",
    "plt.plot(n, f(n), '.')\n",
    "plt.plot(n, g(n), 'r.')\n",
    "\n",
    "plt.show()\n",
    "#help(np.cumsum)"
   ]
  },
  {
   "cell_type": "markdown",
   "id": "19f159c9",
   "metadata": {},
   "source": [
    "## Exercise 2\n",
    "\n",
    "Consider the matrix\n",
    "\n",
    "$$ M = \\left[ \\begin{array}{ccc} 1 & 2 & 1 \\\\ 2 & 4 & 3 \\end{array} \\right].$$\n",
    "\n",
    "Write code to subtract twice the first row from the second."
   ]
  },
  {
   "cell_type": "code",
   "execution_count": 19,
   "id": "c621e514",
   "metadata": {},
   "outputs": [
    {
     "name": "stdout",
     "output_type": "stream",
     "text": [
      "old M:\n",
      "[[1 2 1]\n",
      " [2 4 3]]\n",
      "\n",
      "new M:\n",
      "[[1 2 1]\n",
      " [2 4 3]]\n"
     ]
    }
   ],
   "source": [
    "M = np.array([[1, 2, 1], [2, 4, 3]])\n",
    "print('old M:')\n",
    "print(M)\n",
    "print()\n",
    "\n",
    "for i in M:\n",
    "    \n",
    "print('new M:')\n",
    "print(M)"
   ]
  },
  {
   "cell_type": "markdown",
   "id": "e3ea9bf1",
   "metadata": {},
   "source": [
    "## Exercise 3\n",
    "\n",
    "Write a program that has as input a list of numbers \n",
    "$x_0,x_1,\\ldots,xn$ and a number $x$ and that produces as output the product \n",
    "$(x-x_0)(x-x_1)\\ldots(x-x_n)$."
   ]
  }
 ],
 "metadata": {
  "kernelspec": {
   "display_name": "Python 3 (ipykernel)",
   "language": "python",
   "name": "python3"
  },
  "language_info": {
   "codemirror_mode": {
    "name": "ipython",
    "version": 3
   },
   "file_extension": ".py",
   "mimetype": "text/x-python",
   "name": "python",
   "nbconvert_exporter": "python",
   "pygments_lexer": "ipython3",
   "version": "3.9.7"
  }
 },
 "nbformat": 4,
 "nbformat_minor": 5
}
