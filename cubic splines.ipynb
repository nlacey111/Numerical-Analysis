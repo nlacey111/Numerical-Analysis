{
 "cells": [
  {
   "cell_type": "code",
   "execution_count": 2,
   "id": "7763084b",
   "metadata": {},
   "outputs": [],
   "source": [
    "import numpy as np\n",
    "def cubicspline(x, y):\n",
    "    n = x.shape[0]-1\n",
    "    l = np.zeros(len(x))\n",
    "    h = np.zeros(len(x)-1)\n",
    "    mu = np.zeros(len(x)-1)\n",
    "    z = np.zeros(len(x))\n",
    "    c = np.zeros(len(x))\n",
    "    b = np.zeros(len(x)-1)\n",
    "    d= np.zeros(len(x)-1)\n",
    "    alphai = np.zeros(len(x)-1)\n",
    "    for i in range(0,len(x)-1):\n",
    "        h[i] = x[i+1]-x[i]\n",
    "        \n",
    "        \n",
    "    for i in range(1,len(x)-1):\n",
    "        alphai[i] = (3/h[i])*(y[i+1]-y[i]) - (3/h[i-1]*(y[i]-y[i-1]))\n",
    "    l[0]=1\n",
    "    mu[0] = 0\n",
    "    z[0]= 0\n",
    "        \n",
    "    for i in range(1,len(x)-1):\n",
    "        l[i] = 2*(x[i+1]-x[i-1]) - h[i-1]*mu[i-1]\n",
    "        mu[i] = h[i]/l[i]\n",
    "        z[i] = (alphai[i] - h[i-1]*z[i-1])/l[i]\n",
    "    l[n]=1\n",
    "    z[n]=0\n",
    "    c[n]=0\n",
    "    print(l)\n",
    "    for j in range(len(x)-2,-1,-1):\n",
    "        c[j]=z[j]-mu[j]*c[j+1]\n",
    "        b[j]=(y[j+1]-y[j])/h[j]-(h[j]*(c[j+1] +2*c[j]))/3\n",
    "        d[j]=(c[j+1]-c[j])/(3*h[i])\n",
    "    print(c)    \n",
    "    return a,b,c,d\n",
    "            \n",
    "            "
   ]
  },
  {
   "cell_type": "code",
   "execution_count": 3,
   "id": "5b875740",
   "metadata": {},
   "outputs": [
    {
     "name": "stdout",
     "output_type": "stream",
     "text": [
      "[1.         0.44       0.4125     0.41066667 0.41053571 0.41052632\n",
      " 0.41052564 0.41052559 0.41052559 1.        ]\n",
      "[  0.         -49.08997954  77.69302801 -32.81388336  26.79147132\n",
      " -81.42287306  79.27342947   0.39931166  24.65651177   0.        ]\n"
     ]
    },
    {
     "data": {
      "image/png": "[encoded data removed]",
      "text/plain": [
       "<Figure size 640x480 with 1 Axes>"
      ]
     },
     "metadata": {},
     "output_type": "display_data"
    }
   ],
   "source": [
    "import matplotlib.pyplot as plt\n",
    "f = lambda x: weierstrass(x, 0.5, 4, 100)\n",
    "\n",
    "def weierstrass(x, a, b, N):\n",
    "    \"\"\"\n",
    "    Calculates the Weierstrass function for a given x.\n",
    "\n",
    "    Parameters:\n",
    "        x: The input value.\n",
    "        a: A constant between 0 and 1.\n",
    "        b: An odd integer greater than 1.\n",
    "        N: The number of terms in the summation.\n",
    "\n",
    "    Returns:\n",
    "        The value of the Weierstrass function at x.\n",
    "    \"\"\"\n",
    "\n",
    "    result = 0\n",
    "    for n in range(N):\n",
    "        result += a**n * np.cos(b**n * np.pi * x)\n",
    "    return result\n",
    "\n",
    "points = 10\n",
    "x = np.linspace(0.01,1,points)\n",
    "#x = np.array([1,2,3,4])\n",
    "# figure out f for each x\n",
    "a = np.zeros(x.shape[0])\n",
    "for i in range(x.shape[0]):\n",
    "    a[i] = f(x[i])\n",
    "\n",
    "#a = np.array([ f(4), f(3), f(2), f(1)])\n",
    "             \n",
    "a,b,c,d = cubicspline(x,a)\n",
    "\n",
    "plt.plot(x, a, '.')\n",
    "for j in range(x.shape[0]-1):\n",
    "    xj = np.arange(x[j],x[j+1], .01)\n",
    "    sxj = a[j]+ b[j]*(xj - x[j]) + c[j]*(xj - x[j])**2 +d[j]*(xj - x[j])**3\n",
    "    plt.plot(xj,sxj)\n",
    "plt.show()\n",
    "\n",
    "\n"
   ]
  }
 ],
 "metadata": {
  "kernelspec": {
   "display_name": "torch",
   "language": "python",
   "name": "python3"
  },
  "language_info": {
   "codemirror_mode": {
    "name": "ipython",
    "version": 3
   },
   "file_extension": ".py",
   "mimetype": "text/x-python",
   "name": "python",
   "nbconvert_exporter": "python",
   "pygments_lexer": "ipython3",
   "version": "3.10.14"
  }
 },
 "nbformat": 4,
 "nbformat_minor": 5
}
