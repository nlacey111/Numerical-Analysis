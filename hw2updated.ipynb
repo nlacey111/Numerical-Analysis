{
 "cells": [
  {
   "cell_type": "markdown",
   "id": "6499e0eb",
   "metadata": {},
   "source": [
    "# Math/CS 165 Homework 2\n",
    "\n",
    "Please fill the remainder of this notebook with your code (remove `pass` after \"# your code here\"), execute all cells, save the notebook on your machine, and upload the notebook only (i.e. not any other files in this folder) to Blackbboard."
   ]
  },
  {
   "cell_type": "markdown",
   "id": "123fbed0",
   "metadata": {},
   "source": [
    "## Problem 1\n",
    "A census of the population of the United States is taken every 10 years. The following table lists the population, in thousands of people, from 1960 to 2010, and the data are also represented in the figure.\n",
    "\n",
    "|Year|1960|1970|1980|1990|2000|2010|2020|\n",
    "|:---|:---:|:---:|:---:|:---:|:---:|:---:|:---:|\n",
    "|Population (in thousands)|179,323|203,302|226,542|249,633|281,422|308,746|331,449|\n",
    "\n",
    "Use Lagrange interpolation to approximate the population in the years 1950, 1975, 2014, and 2025."
   ]
  },
  {
   "cell_type": "code",
   "execution_count": 1,
   "id": "d738c612",
   "metadata": {},
   "outputs": [],
   "source": [
    "#from lagrange import lagrange\n",
    "\n",
    "def lagrange(x_n, y_n, x_val): \n",
    "    # INPUT: list x_n of x-values, list y_n of y-values, x_val to be approximated\n",
    "    # OUTPUT: P(x_val)\n",
    "    n = len(x_n)\n",
    "    Px = 0\n",
    "    for i in range(n):\n",
    "        p = 1\n",
    "        for j in range(n):\n",
    "            if i != j:\n",
    "                p = p * (x_val - x_n[j])/(x_n[i] - x_n[j])    \n",
    "        Px = Px + p * y_n[i]\n",
    "    return Px\n"
   ]
  },
  {
   "cell_type": "code",
   "execution_count": 2,
   "id": "c595744f",
   "metadata": {},
   "outputs": [],
   "source": [
    "x_n = [1960,1970,1980,1990,2000,2010,2020]\n",
    "y_n = [179323, 203302, 226542, 249633, 281422, 308746, 331449]\n",
    "#x_val = 1950\n",
    "\n",
    "#lagrange(x_n,y_n,x_val)\n",
    "#print('P(%f) = ' % x_val,lagrange(x_n,y_n,x_val))"
   ]
  },
  {
   "cell_type": "code",
   "execution_count": 3,
   "id": "1ae32f2d",
   "metadata": {},
   "outputs": [
    {
     "name": "stdout",
     "output_type": "stream",
     "text": [
      "P(1950.000000) =  257823.00000000006\n",
      "P(1975.000000) =  215971.9921875\n",
      "P(2014.000000) =  316059.5059072\n",
      "P(2025.000000) =  367920.09375\n"
     ]
    }
   ],
   "source": [
    "years = [1950, 1975, 2014, 2025]\n",
    "for i in years:\n",
    "    print('P(%f) = ' % i,lagrange(x_n,y_n,i))"
   ]
  },
  {
   "cell_type": "markdown",
   "id": "454cc13b",
   "metadata": {},
   "source": [
    "The population in 1950 was approximately 150,697,360, and in 2014 the population was estimated to be 317,298,000. How accurate do you think your 1975 and 2025 figures are?"
   ]
  },
  {
   "cell_type": "markdown",
   "id": "36db194b",
   "metadata": {},
   "source": [
    "The population prediction for 1950 is 257,823,000, which is very far off from the nearest year 1960 (179,323,000), so I do not know why it did not follow a more linear pattern. \n",
    "\n",
    "1975 is very accurate, it is at 215,971,000 which is smack dab between the 1970 and 1980 populations. \n",
    "\n",
    "2025 is a reasonable guess of 367920, it is more than the 2020 prediction by about 30,000 which is about how much the population had grown in previous years. \n",
    "\n",
    "It appears that predictions for anything other than before the sequence work well. i.e. only predict in between or after values. "
   ]
  },
  {
   "cell_type": "markdown",
   "id": "678ae58c",
   "metadata": {},
   "source": [
    "Less accurate at the endpoints since we are using a polynomial to approximate an exponential function."
   ]
  },
  {
   "cell_type": "markdown",
   "id": "44858b8f",
   "metadata": {},
   "source": [
    "## Problem 2\n",
    "Consider the following two simple algorithms.  The first sums the numbers from 0 to 99 and the seccond sums the numbers from 0 to 9999."
   ]
  },
  {
   "cell_type": "code",
   "execution_count": 4,
   "id": "920eb654",
   "metadata": {
    "scrolled": true
   },
   "outputs": [],
   "source": [
    "def alg1():\n",
    "    return sum(range(100))\n",
    "def alg2():\n",
    "    return sum(range(10000))"
   ]
  },
  {
   "cell_type": "markdown",
   "id": "646b7f13",
   "metadata": {},
   "source": [
    "We can use `%%timeit` at the beginning of a code block to conveniently time how long the algorithm runs. This will run the code block a number times (loops) and give the mean runtime and standard deviation. Note:  $ns$ stands for nanosecond ($10^{-9}$ of a second) and $\\mu s$ stands for microsecond ($10^{-6}$ of a second)."
   ]
  },
  {
   "cell_type": "code",
   "execution_count": 5,
   "id": "622e9a0f",
   "metadata": {},
   "outputs": [
    {
     "name": "stdout",
     "output_type": "stream",
     "text": [
      "977 ns ± 31.8 ns per loop (mean ± std. dev. of 7 runs, 1000000 loops each)\n"
     ]
    }
   ],
   "source": [
    "%%timeit\n",
    "alg1()"
   ]
  },
  {
   "cell_type": "code",
   "execution_count": 6,
   "id": "87fa4d11",
   "metadata": {},
   "outputs": [
    {
     "name": "stdout",
     "output_type": "stream",
     "text": [
      "143 µs ± 7.26 µs per loop (mean ± std. dev. of 7 runs, 10000 loops each)\n"
     ]
    }
   ],
   "source": [
    "%%timeit\n",
    "alg2()"
   ]
  },
  {
   "cell_type": "markdown",
   "id": "f3eb32aa",
   "metadata": {},
   "source": [
    "I have written code to create $x$-values from 1 to 100 a random set of corresponding $y$-values.  Compare the times of using Lagrange interpolation versus Newton interpolation with divided differences for this example."
   ]
  },
  {
   "cell_type": "code",
   "execution_count": 7,
   "id": "11070871",
   "metadata": {
    "scrolled": true
   },
   "outputs": [
    {
     "data": {
      "image/png": "[encoded data removed]",
      "text/plain": [
       "<Figure size 432x288 with 1 Axes>"
      ]
     },
     "metadata": {
      "needs_background": "light"
     },
     "output_type": "display_data"
    }
   ],
   "source": [
    "import numpy as np\n",
    "import random\n",
    "import matplotlib.pyplot as plt\n",
    "\n",
    "n=100\n",
    "x_data=np.arange(1,n+1)\n",
    "y_data = []\n",
    "for i in range(0,n):\n",
    "    y_data.append(random.random()*100)\n",
    "plt.scatter(x_data,y_data)\n",
    "plt.show() "
   ]
  },
  {
   "cell_type": "code",
   "execution_count": 8,
   "id": "6c71bde7",
   "metadata": {},
   "outputs": [
    {
     "name": "stdout",
     "output_type": "stream",
     "text": [
      "713 ms ± 34.6 ms per loop (mean ± std. dev. of 7 runs, 1 loop each)\n"
     ]
    }
   ],
   "source": [
    "%%timeit\n",
    "#from lagrange import lagrange\n",
    "for i in x_data:\n",
    "    lagrange(x_data,y_data,i)\n",
    "pass"
   ]
  },
  {
   "cell_type": "code",
   "execution_count": 10,
   "id": "95106724",
   "metadata": {},
   "outputs": [],
   "source": [
    "def newton_poly(coef, x, grid):\n",
    "    '''\n",
    "    evaluate the newton polynomial \n",
    "    at x\n",
    "    '''\n",
    "    n = len(x) - 1 \n",
    "    p = coef[n]\n",
    "    for k in range(1,n+1):\n",
    "        p = coef[n-k] + (grid -x[n-k])*p\n",
    "    return p"
   ]
  },
  {
   "cell_type": "code",
   "execution_count": 14,
   "id": "63f8da1d",
   "metadata": {
    "scrolled": true
   },
   "outputs": [
    {
     "name": "stdout",
     "output_type": "stream",
     "text": [
      "35.9 ms ± 843 µs per loop (mean ± std. dev. of 7 runs, 10 loops each)\n"
     ]
    }
   ],
   "source": [
    "%%timeit\n",
    "#from divided_diff import divided_diff\n",
    "#from newton_poly import newton_poly\n",
    "# your code here\n",
    "for i in x_data:\n",
    "    newton_poly(x_data, y_data, i)\n",
    "pass"
   ]
  },
  {
   "cell_type": "markdown",
   "id": "de86d8a2",
   "metadata": {},
   "source": [
    "## Problem 3"
   ]
  },
  {
   "cell_type": "markdown",
   "id": "6330b09e",
   "metadata": {},
   "source": [
    "Write a function `num_diff(f,a,b,n,option)`, with the output as `[df,X]`, where `f` is a function object. The function `num_diff` should compute the derivative of `f` numerical for `n` evenly spaced points starting at `a` and ending at `b` according to the method defined by `option`. The input argument `option` is one of the following strings: `‘forward’`, `‘backward’`, `‘central’`. Note that for the forward and backward method, the output argument, 'dy', should be a 1D array of length $(n−1)$, and for the central difference method dy should be a 1D array of length $(n−2)$. The function should also output a vector `X` that is the same size as `dy` and denotes the $x$-values for which `dy` is valid."
   ]
  },
  {
   "cell_type": "code",
   "execution_count": 35,
   "id": "7958dfe3",
   "metadata": {},
   "outputs": [],
   "source": [
    "import numpy as np\n",
    "\n",
    "def num_diff(f,a,b,n,option):\n",
    "    # your code here\n",
    "    if (option == 'forward'):\n",
    "        h = (b-a)/(n-1)\n",
    "        x = np.arange(a,b,h)\n",
    "    #x = np.linspace(a,b,n)\n",
    "    # compute vector of forward differences\n",
    "        df = (f(x[1:])-f(x[:-1]))/h\n",
    "    # compute corresponding grid\n",
    "        X = x[:-1] \n",
    "        return [df,X]\n",
    "    if (option == 'central'):\n",
    "        h = (b-a)/(n-1)\n",
    "        x= np.arange(a,b,h)\n",
    "        df = (f(x[2:]) - f(x[:-2]))/2*h\n",
    "        X = x[1:-1]\n",
    "    \n",
    "        return [df, X]\n",
    "        \n",
    "    if (option == 'backward'):\n",
    "        h = (b-a)/(n-1)\n",
    "        x = np.arange(a,b,h)\n",
    "        df = (f(x[1:])-f(x[:-1]))/h\n",
    "        X = x[1:] \n",
    "        return [df,X]"
   ]
  },
  {
   "cell_type": "markdown",
   "id": "b9059bce",
   "metadata": {},
   "source": [
    "Use the following code to test your function:"
   ]
  },
  {
   "cell_type": "code",
   "execution_count": 36,
   "id": "79ec7e48",
   "metadata": {},
   "outputs": [
    {
     "data": {
      "image/png": "[encoded data removed]",
      "text/plain": [
       "<Figure size 432x288 with 1 Axes>"
      ]
     },
     "metadata": {
      "needs_background": "light"
     },
     "output_type": "display_data"
    }
   ],
   "source": [
    "x = np.linspace(0, 2*np.pi, 100)\n",
    "f = lambda x: np.sin(x)\n",
    "[dyf, Xf] = num_diff(f, 0, 2*np.pi, 10, 'forward')\n",
    "[dyb, Xb] = num_diff(f, 0, 2*np.pi, 10, 'backward')\n",
    "[dyc, Xc] = num_diff(f, 0, 2*np.pi, 10, 'central')\n",
    "plt.plot(x, np.cos(x), label = 'analytic')\n",
    "plt.plot(Xf, dyf, label = 'forward')\n",
    "plt.plot(Xb, dyb, label = 'backward')\n",
    "plt.plot(Xc, dyc, label = 'central')\n",
    "plt.legend()\n",
    "plt.title('Analytic and Numerical Derivatives of Sine')\n",
    "plt.xlabel('x')\n",
    "plt.ylabel('y')\n",
    "plt.show()"
   ]
  },
  {
   "cell_type": "markdown",
   "id": "de7743f1",
   "metadata": {},
   "source": [
    "## Problem 4"
   ]
  },
  {
   "cell_type": "markdown",
   "id": "17d11204",
   "metadata": {},
   "source": [
    "Write a function `num_int(f,a,b,n,option)`, where the output `I` is the numerical integral of `f`, a function object, computed on a grid of `n` evenly spaced points starting at `a` and ending at `b`. The integration method used should be one of the following strings defined by option: `‘rect’`, `‘trap’`, `‘simp’`. For the rectangle method, the function value should be taken from the right endpoint of the interval. You may assume that n is odd."
   ]
  },
  {
   "cell_type": "code",
   "execution_count": 60,
   "id": "48098b96",
   "metadata": {},
   "outputs": [],
   "source": [
    "def num_int(f,a,b,n,option):\n",
    "    # your code here\n",
    "    if (option == \"rect\"):\n",
    "        x = np.linspace(a,b,n)\n",
    "        h = (b-a)/(n-1)\n",
    "        I = h * sum(f(x[1:]))\n",
    "        return I\n",
    "    if (option == \"trap\"):\n",
    "        x = np.linspace(a,b,n)\n",
    "        h = (b-a)/(n-1)\n",
    "        I = (h/2)*(f(x[0]) + 2 * sum(f(x[1:n-1])) + f(x[n-1]))\n",
    "        return I\n",
    "    if (option == \"simp\"):\n",
    "        x = np.linspace(a,b,n)\n",
    "        h = (b-a)/(n-1)\n",
    "        I = (h/3)*(f(x[0])+ 4*sum(f(x[1:-1:2])) + 2*sum(f(x[2:-2:2]))+ f(x[n-1]))\n",
    "        return I\n"
   ]
  },
  {
   "cell_type": "markdown",
   "id": "3f575712",
   "metadata": {},
   "source": [
    "Use the following code to test your function:"
   ]
  },
  {
   "cell_type": "code",
   "execution_count": 61,
   "id": "1bfe433b",
   "metadata": {},
   "outputs": [
    {
     "name": "stdout",
     "output_type": "stream",
     "text": [
      "0.625\n",
      "0.375\n",
      "0.3333333333333333\n"
     ]
    }
   ],
   "source": [
    "f = lambda x: x**2\n",
    "print(num_int(f, 0, 1, 3, 'rect'))\n",
    "print(num_int(f, 0, 1, 3, 'trap'))\n",
    "print(num_int(f, 0, 1, 3, 'simp'))"
   ]
  },
  {
   "cell_type": "code",
   "execution_count": 62,
   "id": "a785fad3",
   "metadata": {},
   "outputs": [
    {
     "name": "stdout",
     "output_type": "stream",
     "text": [
      "2.92530358839265\n",
      "2.9253034918143648\n",
      "2.925303491814353\n"
     ]
    }
   ],
   "source": [
    "f = lambda x: np.exp(x**2)\n",
    "print(num_int(f, -1, 1, 101, 'simp'))\n",
    "print(num_int(f, -1, 1, 10001, 'simp'))\n",
    "print(num_int(f, -1, 1, 100001, 'simp'))"
   ]
  }
 ],
 "metadata": {
  "kernelspec": {
   "display_name": "Python 3 (ipykernel)",
   "language": "python",
   "name": "python3"
  },
  "language_info": {
   "codemirror_mode": {
    "name": "ipython",
    "version": 3
   },
   "file_extension": ".py",
   "mimetype": "text/x-python",
   "name": "python",
   "nbconvert_exporter": "python",
   "pygments_lexer": "ipython3",
   "version": "3.9.7"
  }
 },
 "nbformat": 4,
 "nbformat_minor": 5
}
